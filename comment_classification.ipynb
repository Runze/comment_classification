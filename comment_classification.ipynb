{
 "cells": [
  {
   "cell_type": "code",
   "execution_count": 1,
   "metadata": {},
   "outputs": [],
   "source": [
    "%reload_ext autoreload\n",
    "%autoreload 2\n",
    "%matplotlib inline"
   ]
  },
  {
   "cell_type": "code",
   "execution_count": 2,
   "metadata": {},
   "outputs": [],
   "source": [
    "import pandas as pd\n",
    "import numpy as np\n",
    "import re\n",
    "import spacy\n",
    "from spacy.symbols import ORTH\n",
    "import itertools\n",
    "\n",
    "import torch.nn as nn\n",
    "from torch.autograd import Variable\n",
    "import torchtext\n",
    "from torchtext import vocab, data\n",
    "from torchtext.datasets import language_modeling\n",
    "\n",
    "from sklearn.model_selection import train_test_split\n",
    "import dill as pickle\n",
    "import io"
   ]
  },
  {
   "cell_type": "code",
   "execution_count": 3,
   "metadata": {},
   "outputs": [],
   "source": [
    "SEED = 123456"
   ]
  },
  {
   "cell_type": "code",
   "execution_count": 4,
   "metadata": {},
   "outputs": [
    {
     "name": "stdout",
     "output_type": "stream",
     "text": [
      "sample_submission.csv  train.csv  trn_txt.csv  val_txt.csv\r\n",
      "test.csv\t       trn.csv\t  val.csv\r\n"
     ]
    }
   ],
   "source": [
    "!ls data"
   ]
  },
  {
   "cell_type": "code",
   "execution_count": 5,
   "metadata": {},
   "outputs": [
    {
     "data": {
      "text/plain": [
       "(95851, 8)"
      ]
     },
     "execution_count": 5,
     "metadata": {},
     "output_type": "execute_result"
    }
   ],
   "source": [
    "# Look at training data\n",
    "cmt = pd.read_csv('data/train.csv')\n",
    "cmt.shape"
   ]
  },
  {
   "cell_type": "code",
   "execution_count": 6,
   "metadata": {},
   "outputs": [
    {
     "data": {
      "text/html": [
       "<div>\n",
       "<style scoped>\n",
       "    .dataframe tbody tr th:only-of-type {\n",
       "        vertical-align: middle;\n",
       "    }\n",
       "\n",
       "    .dataframe tbody tr th {\n",
       "        vertical-align: top;\n",
       "    }\n",
       "\n",
       "    .dataframe thead th {\n",
       "        text-align: right;\n",
       "    }\n",
       "</style>\n",
       "<table border=\"1\" class=\"dataframe\">\n",
       "  <thead>\n",
       "    <tr style=\"text-align: right;\">\n",
       "      <th></th>\n",
       "      <th>id</th>\n",
       "      <th>comment_text</th>\n",
       "      <th>toxic</th>\n",
       "      <th>severe_toxic</th>\n",
       "      <th>obscene</th>\n",
       "      <th>threat</th>\n",
       "      <th>insult</th>\n",
       "      <th>identity_hate</th>\n",
       "    </tr>\n",
       "  </thead>\n",
       "  <tbody>\n",
       "    <tr>\n",
       "      <th>0</th>\n",
       "      <td>22256635</td>\n",
       "      <td>Nonsense?  kiss off, geek. what I said is true...</td>\n",
       "      <td>1</td>\n",
       "      <td>0</td>\n",
       "      <td>0</td>\n",
       "      <td>0</td>\n",
       "      <td>0</td>\n",
       "      <td>0</td>\n",
       "    </tr>\n",
       "    <tr>\n",
       "      <th>1</th>\n",
       "      <td>27450690</td>\n",
       "      <td>\"\\n\\n Please do not vandalize pages, as you di...</td>\n",
       "      <td>0</td>\n",
       "      <td>0</td>\n",
       "      <td>0</td>\n",
       "      <td>0</td>\n",
       "      <td>0</td>\n",
       "      <td>0</td>\n",
       "    </tr>\n",
       "    <tr>\n",
       "      <th>2</th>\n",
       "      <td>54037174</td>\n",
       "      <td>\"\\n\\n \"\"Points of interest\"\" \\n\\nI removed the...</td>\n",
       "      <td>0</td>\n",
       "      <td>0</td>\n",
       "      <td>0</td>\n",
       "      <td>0</td>\n",
       "      <td>0</td>\n",
       "      <td>0</td>\n",
       "    </tr>\n",
       "    <tr>\n",
       "      <th>3</th>\n",
       "      <td>77493077</td>\n",
       "      <td>Asking some his nationality is a Racial offenc...</td>\n",
       "      <td>0</td>\n",
       "      <td>0</td>\n",
       "      <td>0</td>\n",
       "      <td>0</td>\n",
       "      <td>0</td>\n",
       "      <td>0</td>\n",
       "    </tr>\n",
       "    <tr>\n",
       "      <th>4</th>\n",
       "      <td>79357270</td>\n",
       "      <td>The reader here is not going by my say so for ...</td>\n",
       "      <td>0</td>\n",
       "      <td>0</td>\n",
       "      <td>0</td>\n",
       "      <td>0</td>\n",
       "      <td>0</td>\n",
       "      <td>0</td>\n",
       "    </tr>\n",
       "  </tbody>\n",
       "</table>\n",
       "</div>"
      ],
      "text/plain": [
       "         id                                       comment_text  toxic  \\\n",
       "0  22256635  Nonsense?  kiss off, geek. what I said is true...      1   \n",
       "1  27450690  \"\\n\\n Please do not vandalize pages, as you di...      0   \n",
       "2  54037174  \"\\n\\n \"\"Points of interest\"\" \\n\\nI removed the...      0   \n",
       "3  77493077  Asking some his nationality is a Racial offenc...      0   \n",
       "4  79357270  The reader here is not going by my say so for ...      0   \n",
       "\n",
       "   severe_toxic  obscene  threat  insult  identity_hate  \n",
       "0             0        0       0       0              0  \n",
       "1             0        0       0       0              0  \n",
       "2             0        0       0       0              0  \n",
       "3             0        0       0       0              0  \n",
       "4             0        0       0       0              0  "
      ]
     },
     "execution_count": 6,
     "metadata": {},
     "output_type": "execute_result"
    }
   ],
   "source": [
    "cmt.head()"
   ]
  },
  {
   "cell_type": "code",
   "execution_count": 7,
   "metadata": {},
   "outputs": [],
   "source": [
    "labels = cmt.columns[2:]"
   ]
  },
  {
   "cell_type": "code",
   "execution_count": 8,
   "metadata": {},
   "outputs": [
    {
     "data": {
      "text/html": [
       "<div>\n",
       "<style scoped>\n",
       "    .dataframe tbody tr th:only-of-type {\n",
       "        vertical-align: middle;\n",
       "    }\n",
       "\n",
       "    .dataframe tbody tr th {\n",
       "        vertical-align: top;\n",
       "    }\n",
       "\n",
       "    .dataframe thead th {\n",
       "        text-align: right;\n",
       "    }\n",
       "</style>\n",
       "<table border=\"1\" class=\"dataframe\">\n",
       "  <thead>\n",
       "    <tr style=\"text-align: right;\">\n",
       "      <th></th>\n",
       "      <th>toxic</th>\n",
       "      <th>severe_toxic</th>\n",
       "      <th>obscene</th>\n",
       "      <th>threat</th>\n",
       "      <th>insult</th>\n",
       "      <th>identity_hate</th>\n",
       "    </tr>\n",
       "  </thead>\n",
       "  <tbody>\n",
       "    <tr>\n",
       "      <th>count</th>\n",
       "      <td>95851.000000</td>\n",
       "      <td>95851.000000</td>\n",
       "      <td>95851.000000</td>\n",
       "      <td>95851.000000</td>\n",
       "      <td>95851.000000</td>\n",
       "      <td>95851.000000</td>\n",
       "    </tr>\n",
       "    <tr>\n",
       "      <th>mean</th>\n",
       "      <td>0.096368</td>\n",
       "      <td>0.010068</td>\n",
       "      <td>0.053301</td>\n",
       "      <td>0.003182</td>\n",
       "      <td>0.049713</td>\n",
       "      <td>0.008492</td>\n",
       "    </tr>\n",
       "    <tr>\n",
       "      <th>std</th>\n",
       "      <td>0.295097</td>\n",
       "      <td>0.099832</td>\n",
       "      <td>0.224635</td>\n",
       "      <td>0.056320</td>\n",
       "      <td>0.217352</td>\n",
       "      <td>0.091762</td>\n",
       "    </tr>\n",
       "    <tr>\n",
       "      <th>min</th>\n",
       "      <td>0.000000</td>\n",
       "      <td>0.000000</td>\n",
       "      <td>0.000000</td>\n",
       "      <td>0.000000</td>\n",
       "      <td>0.000000</td>\n",
       "      <td>0.000000</td>\n",
       "    </tr>\n",
       "    <tr>\n",
       "      <th>25%</th>\n",
       "      <td>0.000000</td>\n",
       "      <td>0.000000</td>\n",
       "      <td>0.000000</td>\n",
       "      <td>0.000000</td>\n",
       "      <td>0.000000</td>\n",
       "      <td>0.000000</td>\n",
       "    </tr>\n",
       "    <tr>\n",
       "      <th>50%</th>\n",
       "      <td>0.000000</td>\n",
       "      <td>0.000000</td>\n",
       "      <td>0.000000</td>\n",
       "      <td>0.000000</td>\n",
       "      <td>0.000000</td>\n",
       "      <td>0.000000</td>\n",
       "    </tr>\n",
       "    <tr>\n",
       "      <th>75%</th>\n",
       "      <td>0.000000</td>\n",
       "      <td>0.000000</td>\n",
       "      <td>0.000000</td>\n",
       "      <td>0.000000</td>\n",
       "      <td>0.000000</td>\n",
       "      <td>0.000000</td>\n",
       "    </tr>\n",
       "    <tr>\n",
       "      <th>max</th>\n",
       "      <td>1.000000</td>\n",
       "      <td>1.000000</td>\n",
       "      <td>1.000000</td>\n",
       "      <td>1.000000</td>\n",
       "      <td>1.000000</td>\n",
       "      <td>1.000000</td>\n",
       "    </tr>\n",
       "  </tbody>\n",
       "</table>\n",
       "</div>"
      ],
      "text/plain": [
       "              toxic  severe_toxic       obscene        threat        insult  \\\n",
       "count  95851.000000  95851.000000  95851.000000  95851.000000  95851.000000   \n",
       "mean       0.096368      0.010068      0.053301      0.003182      0.049713   \n",
       "std        0.295097      0.099832      0.224635      0.056320      0.217352   \n",
       "min        0.000000      0.000000      0.000000      0.000000      0.000000   \n",
       "25%        0.000000      0.000000      0.000000      0.000000      0.000000   \n",
       "50%        0.000000      0.000000      0.000000      0.000000      0.000000   \n",
       "75%        0.000000      0.000000      0.000000      0.000000      0.000000   \n",
       "max        1.000000      1.000000      1.000000      1.000000      1.000000   \n",
       "\n",
       "       identity_hate  \n",
       "count   95851.000000  \n",
       "mean        0.008492  \n",
       "std         0.091762  \n",
       "min         0.000000  \n",
       "25%         0.000000  \n",
       "50%         0.000000  \n",
       "75%         0.000000  \n",
       "max         1.000000  "
      ]
     },
     "execution_count": 8,
     "metadata": {},
     "output_type": "execute_result"
    }
   ],
   "source": [
    "cmt[labels].describe()"
   ]
  },
  {
   "cell_type": "code",
   "execution_count": 9,
   "metadata": {},
   "outputs": [
    {
     "data": {
      "text/plain": [
       "count    95851.000000\n",
       "mean         0.221124\n",
       "std          0.750533\n",
       "min          0.000000\n",
       "25%          0.000000\n",
       "50%          0.000000\n",
       "75%          0.000000\n",
       "max          6.000000\n",
       "Name: num_labels, dtype: float64"
      ]
     },
     "execution_count": 9,
     "metadata": {},
     "output_type": "execute_result"
    }
   ],
   "source": [
    "cmt['num_labels'] = cmt[labels].sum(axis=1)\n",
    "cmt['num_labels'].describe()"
   ]
  },
  {
   "cell_type": "code",
   "execution_count": 10,
   "metadata": {},
   "outputs": [
    {
     "name": "stdout",
     "output_type": "stream",
     "text": [
      "\n",
      "\u001b[93m    Warning: no model found for 'en'\u001b[0m\n",
      "\n",
      "    Only loading the 'en' tokenizer.\n",
      "\n"
     ]
    }
   ],
   "source": [
    "# Define tokenizer\n",
    "# https://github.com/fastai/fastai/blob/dc61200b18f25a42b8e803c5ca7be48509f562ef/fastai/nlp.py#L16-L21\n",
    "re_br = re.compile(r'<\\s*br\\s*/?>', re.IGNORECASE)\n",
    "\n",
    "def sub_br(x):\n",
    "    return re.sub(r'\\n', ' ', re_br.sub(' ', x))\n",
    "\n",
    "def sub_quote(x):\n",
    "    return re.sub(r'\"', ' ', x)\n",
    "\n",
    "my_tok = spacy.load('en')\n",
    "my_tok.tokenizer.add_special_case('<eos>', [{ORTH: '<eos>'}])\n",
    "\n",
    "def spacy_tok(x):\n",
    "    return [tok.text for tok in my_tok.tokenizer(sub_quote(sub_br(x)))]"
   ]
  },
  {
   "cell_type": "code",
   "execution_count": 11,
   "metadata": {},
   "outputs": [
    {
     "data": {
      "text/html": [
       "<div>\n",
       "<style scoped>\n",
       "    .dataframe tbody tr th:only-of-type {\n",
       "        vertical-align: middle;\n",
       "    }\n",
       "\n",
       "    .dataframe tbody tr th {\n",
       "        vertical-align: top;\n",
       "    }\n",
       "\n",
       "    .dataframe thead th {\n",
       "        text-align: right;\n",
       "    }\n",
       "</style>\n",
       "<table border=\"1\" class=\"dataframe\">\n",
       "  <thead>\n",
       "    <tr style=\"text-align: right;\">\n",
       "      <th></th>\n",
       "      <th>comment_text</th>\n",
       "      <th>comment_text_cleaned</th>\n",
       "    </tr>\n",
       "  </thead>\n",
       "  <tbody>\n",
       "    <tr>\n",
       "      <th>0</th>\n",
       "      <td>Nonsense?  kiss off, geek. what I said is true...</td>\n",
       "      <td>Nonsense ?   kiss off , geek . what I said is ...</td>\n",
       "    </tr>\n",
       "    <tr>\n",
       "      <th>1</th>\n",
       "      <td>\"\\n\\n Please do not vandalize pages, as you di...</td>\n",
       "      <td>Please do not vandalize pages , as you did wit...</td>\n",
       "    </tr>\n",
       "    <tr>\n",
       "      <th>2</th>\n",
       "      <td>\"\\n\\n \"\"Points of interest\"\" \\n\\nI removed the...</td>\n",
       "      <td>Points of interest      I removed the    point...</td>\n",
       "    </tr>\n",
       "    <tr>\n",
       "      <th>3</th>\n",
       "      <td>Asking some his nationality is a Racial offenc...</td>\n",
       "      <td>Asking some his nationality is a Racial offenc...</td>\n",
       "    </tr>\n",
       "    <tr>\n",
       "      <th>4</th>\n",
       "      <td>The reader here is not going by my say so for ...</td>\n",
       "      <td>The reader here is not going by my say so for ...</td>\n",
       "    </tr>\n",
       "  </tbody>\n",
       "</table>\n",
       "</div>"
      ],
      "text/plain": [
       "                                        comment_text  \\\n",
       "0  Nonsense?  kiss off, geek. what I said is true...   \n",
       "1  \"\\n\\n Please do not vandalize pages, as you di...   \n",
       "2  \"\\n\\n \"\"Points of interest\"\" \\n\\nI removed the...   \n",
       "3  Asking some his nationality is a Racial offenc...   \n",
       "4  The reader here is not going by my say so for ...   \n",
       "\n",
       "                                comment_text_cleaned  \n",
       "0  Nonsense ?   kiss off , geek . what I said is ...  \n",
       "1  Please do not vandalize pages , as you did wit...  \n",
       "2  Points of interest      I removed the    point...  \n",
       "3  Asking some his nationality is a Racial offenc...  \n",
       "4  The reader here is not going by my say so for ...  "
      ]
     },
     "execution_count": 11,
     "metadata": {},
     "output_type": "execute_result"
    }
   ],
   "source": [
    "# Clean text\n",
    "cmt['comment_text_cleaned'] = [' '.join(spacy_tok(txt)).strip() for txt in cmt['comment_text']]\n",
    "cmt[['comment_text', 'comment_text_cleaned']].head()"
   ]
  },
  {
   "cell_type": "code",
   "execution_count": 12,
   "metadata": {},
   "outputs": [
    {
     "data": {
      "text/plain": [
       "((71888, 2), (23963, 2), (71888, 6), (23963, 6))"
      ]
     },
     "execution_count": 12,
     "metadata": {},
     "output_type": "execute_result"
    }
   ],
   "source": [
    "# Split into training and validation set\n",
    "cmt_trn, cmt_val, cmt_trn_y, cmt_val_y = train_test_split(cmt[['id', 'comment_text_cleaned']], cmt[labels], random_state=SEED)\n",
    "cmt_trn.shape, cmt_val.shape, cmt_trn_y.shape, cmt_val_y.shape"
   ]
  },
  {
   "cell_type": "code",
   "execution_count": 13,
   "metadata": {},
   "outputs": [],
   "source": [
    "cmt_trn = cmt_trn.join(cmt_trn_y)\n",
    "cmt_val = cmt_val.join(cmt_val_y)"
   ]
  },
  {
   "cell_type": "code",
   "execution_count": 14,
   "metadata": {},
   "outputs": [],
   "source": [
    "# Save only the text content\n",
    "cmt_trn['comment_text_cleaned'].to_csv('data/trn_txt.csv', index=False, header=False)\n",
    "cmt_val['comment_text_cleaned'].to_csv('data/val_txt.csv', index=False, header=False)"
   ]
  },
  {
   "cell_type": "markdown",
   "metadata": {},
   "source": [
    "## Create language model"
   ]
  },
  {
   "cell_type": "markdown",
   "metadata": {},
   "source": [
    "### Create text field and splits"
   ]
  },
  {
   "cell_type": "code",
   "execution_count": 15,
   "metadata": {},
   "outputs": [],
   "source": [
    "# Create a torchtext field\n",
    "TEXT = data.Field(lower=True, eos_token='<eos>')"
   ]
  },
  {
   "cell_type": "code",
   "execution_count": 16,
   "metadata": {},
   "outputs": [],
   "source": [
    "# Create splits\n",
    "trn, val = data.TabularDataset.splits(\n",
    "    path='data',\n",
    "    train='trn_txt.csv',\n",
    "    validation='val_txt.csv',\n",
    "    format='csv',\n",
    "    fields=[('text', TEXT)])"
   ]
  },
  {
   "cell_type": "code",
   "execution_count": 17,
   "metadata": {},
   "outputs": [
    {
     "data": {
      "text/plain": [
       "(71888, 23963)"
      ]
     },
     "execution_count": 17,
     "metadata": {},
     "output_type": "execute_result"
    }
   ],
   "source": [
    "len(trn), len(val)"
   ]
  },
  {
   "cell_type": "code",
   "execution_count": 18,
   "metadata": {},
   "outputs": [],
   "source": [
    "# Build vocabulary\n",
    "TEXT.build_vocab(trn, min_freq=10)"
   ]
  },
  {
   "cell_type": "code",
   "execution_count": 19,
   "metadata": {},
   "outputs": [
    {
     "data": {
      "text/plain": [
       "16629"
      ]
     },
     "execution_count": 19,
     "metadata": {},
     "output_type": "execute_result"
    }
   ],
   "source": [
    "# Vocabulary size\n",
    "vocab_size = len(TEXT.vocab)\n",
    "vocab_size"
   ]
  },
  {
   "cell_type": "code",
   "execution_count": 20,
   "metadata": {},
   "outputs": [
    {
     "data": {
      "text/plain": [
       "['<unk>', '<pad>', '<eos>', '.', 'the', ',', 'to', 'i', 'of', 'and']"
      ]
     },
     "execution_count": 20,
     "metadata": {},
     "output_type": "execute_result"
    }
   ],
   "source": [
    "# Vocabulary dict\n",
    "# Most frequent words\n",
    "TEXT.vocab.itos[:10]"
   ]
  },
  {
   "cell_type": "code",
   "execution_count": 21,
   "metadata": {},
   "outputs": [
    {
     "data": {
      "text/plain": [
       "['zurich', 'zzuuzz', '|b', '~*~', '\\x93', '—aco', '•talk•', '☠', '✄', '😉']"
      ]
     },
     "execution_count": 21,
     "metadata": {},
     "output_type": "execute_result"
    }
   ],
   "source": [
    "# Least frequent words\n",
    "TEXT.vocab.itos[-10:]"
   ]
  },
  {
   "cell_type": "code",
   "execution_count": 22,
   "metadata": {},
   "outputs": [
    {
     "data": {
      "text/plain": [
       "['tag',\n",
       " 'brewcrewer',\n",
       " ',',\n",
       " 'if',\n",
       " 'you',\n",
       " 'do',\n",
       " 'nt',\n",
       " 'want',\n",
       " 'to',\n",
       " 'edit',\n",
       " 'war',\n",
       " 'over',\n",
       " 'something',\n",
       " 'like',\n",
       " 'this',\n",
       " 'why',\n",
       " 'are',\n",
       " 'you',\n",
       " 'reverting',\n",
       " '?']"
      ]
     },
     "execution_count": 22,
     "metadata": {},
     "output_type": "execute_result"
    }
   ],
   "source": [
    "# Check out the first sentence in the training set\n",
    "trn.examples[0].text[:20]"
   ]
  },
  {
   "cell_type": "code",
   "execution_count": 23,
   "metadata": {},
   "outputs": [
    {
     "data": {
      "text/plain": [
       "count    71888.000000\n",
       "mean        78.877003\n",
       "std        119.938922\n",
       "min          1.000000\n",
       "25%         20.000000\n",
       "50%         42.000000\n",
       "75%         87.000000\n",
       "max       4948.000000\n",
       "dtype: float64"
      ]
     },
     "execution_count": 23,
     "metadata": {},
     "output_type": "execute_result"
    }
   ],
   "source": [
    "# Check out comment lengths\n",
    "pd.Series([len(txt.text) for txt in trn.examples]).describe()"
   ]
  },
  {
   "cell_type": "markdown",
   "metadata": {},
   "source": [
    "### Create iterators"
   ]
  },
  {
   "cell_type": "code",
   "execution_count": 24,
   "metadata": {},
   "outputs": [],
   "source": [
    "# https://github.com/fastai/fastai/blob/dc61200b18f25a42b8e803c5ca7be48509f562ef/fastai/nlp.py#L139\n",
    "class LanguageModelIterator():\n",
    "    def __init__(self, ds, bs, bptt):\n",
    "        self.bs = bs\n",
    "        self.bptt = bptt\n",
    "\n",
    "        # Combine all tokens\n",
    "        toks = [tok.text for tok in ds]\n",
    "        toks = list(itertools.chain(*toks))\n",
    "\n",
    "        # Convert tokens to index\n",
    "        fld = ds.fields['text']\n",
    "        idx = fld.numericalize([toks])\n",
    "\n",
    "        # Split into batches\n",
    "        self.data = self.batchify(idx)\n",
    "        self.n_toks_per_batch = len(self.data)\n",
    "\n",
    "        # To point to the index of the next token\n",
    "        self.i = 0\n",
    "\n",
    "        # To track iterations\n",
    "        self.iter = 0\n",
    "\n",
    "    def __iter__(self):\n",
    "        self.i = 0\n",
    "        self.iter = 0\n",
    "        return self\n",
    "\n",
    "    def __len__(self):\n",
    "        # Number of iterations to go over an epoch\n",
    "        return self.n_toks_per_batch // self.bptt - 1\n",
    "\n",
    "    def __next__(self):\n",
    "        if self.i >= self.n_toks_per_batch - 1 or self.iter >= len(self):\n",
    "            raise StopIteration\n",
    "\n",
    "        # Halve `bptt` 5% of the time\n",
    "        bptt = self.bptt if np.random.random() < 0.95 else self.bptt / 2.\n",
    "\n",
    "        # Add variability to sequence length\n",
    "        seq_len = max(5, int(np.random.normal(bptt, 5)))\n",
    "\n",
    "        res = self.get_batch(self.i, seq_len)\n",
    "        \n",
    "        # Update pointers\n",
    "        self.i += seq_len\n",
    "        self.iter += 1\n",
    "        return res\n",
    "\n",
    "    # Split data into batches\n",
    "    def batchify(self, toks):\n",
    "        n_toks_per_batch = len(toks) // self.bs\n",
    "\n",
    "        # Discard the trailing tokens\n",
    "        toks = toks[:n_toks_per_batch * bs]\n",
    "\n",
    "        # Reshape to (n_toks_per_batch, bs)\n",
    "        toks_reshaped = toks.view(bs, -1).t().contiguous()\n",
    "        return toks_reshaped.cuda()\n",
    "    \n",
    "    # Get the next batch\n",
    "    def get_batch(self, i, seq_len):\n",
    "        data = self.data\n",
    "        seq_len = min(seq_len, self.n_toks_per_batch - i - 1)\n",
    "        \n",
    "        # Offset output by 1 token\n",
    "        return data[i:i + seq_len], data[i + 1:i + 1 + seq_len].view(-1)"
   ]
  },
  {
   "cell_type": "code",
   "execution_count": 25,
   "metadata": {},
   "outputs": [],
   "source": [
    "bs = 64\n",
    "bptt = 30"
   ]
  },
  {
   "cell_type": "code",
   "execution_count": 26,
   "metadata": {},
   "outputs": [],
   "source": [
    "trn_dl, val_dl = [LanguageModelIterator(ds, bs, bptt) for ds in (trn, val)]"
   ]
  },
  {
   "cell_type": "code",
   "execution_count": 27,
   "metadata": {},
   "outputs": [
    {
     "data": {
      "text/plain": [
       "(2952, 977)"
      ]
     },
     "execution_count": 27,
     "metadata": {},
     "output_type": "execute_result"
    }
   ],
   "source": [
    "# Number of batches (or iterations)\n",
    "len(trn_dl), len(val_dl)"
   ]
  },
  {
   "cell_type": "code",
   "execution_count": 29,
   "metadata": {},
   "outputs": [
    {
     "data": {
      "text/plain": [
       "(Variable containing:\n",
       "    261  16221     29  ...    2403      6    700\n",
       "      0     46     75  ...       6     23    179\n",
       "      5    470      0  ...       4    630     16\n",
       "         ...            ⋱           ...         \n",
       "     24     38     71  ...     170      6    290\n",
       "    206   2600   7019  ...       3     23     88\n",
       "     21     22     15  ...      15    630      5\n",
       " [torch.cuda.LongTensor of size 37x64 (GPU 0)], Variable containing:\n",
       "      0     46     75  ...       6     23    179\n",
       "      5    470      0  ...       4    630     16\n",
       "     34    107     27  ...     489      3     14\n",
       "         ...            ⋱           ...         \n",
       "    206   2600   7019  ...       3     23     88\n",
       "     21     22     15  ...      15    630      5\n",
       "      7   5060      4  ...       4      3      7\n",
       " [torch.cuda.LongTensor of size 37x64 (GPU 0)])"
      ]
     },
     "execution_count": 29,
     "metadata": {},
     "output_type": "execute_result"
    }
   ],
   "source": [
    "# Check out a batch\n",
    "X, y = next(iter(trn_dl))\n",
    "X, y.view(-1, bs)"
   ]
  },
  {
   "cell_type": "markdown",
   "metadata": {},
   "source": [
    "### Encoder"
   ]
  },
  {
   "cell_type": "code",
   "execution_count": 42,
   "metadata": {},
   "outputs": [],
   "source": [
    "# https://github.com/fastai/fastai/blob/5c9ea4c3533a132b45c1ec577c2cbb72ab24d4c0/fastai/lm_rnn.py#L18\n",
    "def repackage_var(h):\n",
    "    # Wraps h in new Variables, to detach them from their history.\n",
    "    if type(h) == Variable:\n",
    "        return Variable(h.data)\n",
    "    else:\n",
    "        return tuple(repackage_var(v) for v in h)"
   ]
  },
  {
   "cell_type": "code",
   "execution_count": 54,
   "metadata": {},
   "outputs": [],
   "source": [
    "# Loosely based on https://github.com/fastai/fastai/blob/5c9ea4c3533a132b45c1ec577c2cbb72ab24d4c0/fastai/lm_rnn.py#L23\n",
    "class RNN_Encoder(nn.Module):\n",
    "    def __init__(self, bs, vocab_size, embedding_size, hidden_size, n_layers, padding_idx,\n",
    "                 dropout_embedding, dropout_lstm):\n",
    "        super().__init__()\n",
    "        \n",
    "        # Embedding layer\n",
    "        self.embedding = nn.Embedding(vocab_size, embedding_size, padding_idx=padding_idx)\n",
    "        \n",
    "        # Embedding dropout\n",
    "        self.embedding_dropout = nn.Dropout(p=dropout_embedding)\n",
    "        \n",
    "        # LSTM layer\n",
    "        self.lstm = nn.LSTM(embedding_size, hidden_size, n_layers, dropout = dropout_lstm)\n",
    "        \n",
    "        self.bs, self.hidden_size, self.n_layers = bs, hidden_size, n_layers\n",
    "    \n",
    "    def forward(self, input):\n",
    "        input_embedded = self.embedding_dropout(self.embedding(input))  # (seq_len, bs, embedding_size)\n",
    "        output, (hidden_state, cell_state) = self.lstm(input_embedded, self.hidden)  # (seq_len, bs, hidden_size)\n",
    "        self.hidden = repackage_var(new_hidden)\n",
    "        return output\n",
    "    \n",
    "    def reset(self):\n",
    "        weight = next(self.parameters()).data\n",
    "        self.hidden = (Variable(weight.new(self.n_layers, self.bs, self.hidden_size).zero_()),\n",
    "                       Variable(weight.new(self.n_layers, self.bs, self.hidden_size).zero_()))"
   ]
  },
  {
   "cell_type": "code",
   "execution_count": 34,
   "metadata": {},
   "outputs": [],
   "source": [
    "embedding_size = 200\n",
    "padding_idx = TEXT.vocab.stoi[TEXT.pad_token]\n",
    "dropout_embedding = 0.02\n",
    "dropout_lstm = 0.05\n",
    "hidden_size = 500\n",
    "n_layers = 3"
   ]
  },
  {
   "cell_type": "code",
   "execution_count": 36,
   "metadata": {
    "scrolled": true
   },
   "outputs": [
    {
     "data": {
      "text/plain": [
       "RNN_Encoder(\n",
       "  (embedding): Embedding(16629, 200, padding_idx=1)\n",
       "  (embedding_dropout): Dropout(p=0.02)\n",
       "  (lstm): LSTM(200, 500, num_layers=3, dropout=0.05)\n",
       ")"
      ]
     },
     "execution_count": 36,
     "metadata": {},
     "output_type": "execute_result"
    }
   ],
   "source": [
    "# Create encoder instance\n",
    "rnn_encoder = RNN_Encoder(bs, vocab_size, embedding_size, hidden_size, n_layers, padding_idx, dropout_embedding, dropout_lstm)\n",
    "rnn_encoder"
   ]
  },
  {
   "cell_type": "code",
   "execution_count": 46,
   "metadata": {},
   "outputs": [
    {
     "data": {
      "text/plain": [
       "torch.Size([37, 64, 500])"
      ]
     },
     "execution_count": 46,
     "metadata": {},
     "output_type": "execute_result"
    }
   ],
   "source": [
    "# Test encoder\n",
    "rnn_encoder_test = rnn_encoder.cuda()\n",
    "rnn_encoder_test.init_hidden()\n",
    "rnn_encoder_test(X).shape"
   ]
  },
  {
   "cell_type": "markdown",
   "metadata": {},
   "source": [
    "### Decoder"
   ]
  },
  {
   "cell_type": "code",
   "execution_count": 55,
   "metadata": {},
   "outputs": [],
   "source": [
    "# https://github.com/fastai/fastai/blob/5c9ea4c3533a132b45c1ec577c2cbb72ab24d4c0/fastai/lm_rnn.py#L131\n",
    "class RNN_Decoder_LM(nn.Module):\n",
    "    def __init__(self, hidden_size, vocab_size):\n",
    "        super().__init__()\n",
    "        \n",
    "        # Linear layer\n",
    "        self.decoder = nn.Linear(hidden_size, vocab_size)\n",
    "    \n",
    "    def forward(self, input):\n",
    "        return self.decoder(input)"
   ]
  },
  {
   "cell_type": "code",
   "execution_count": 56,
   "metadata": {},
   "outputs": [
    {
     "data": {
      "text/plain": [
       "RNN_Decoder_LM(\n",
       "  (decoder): Linear(in_features=500, out_features=16629)\n",
       ")"
      ]
     },
     "execution_count": 56,
     "metadata": {},
     "output_type": "execute_result"
    }
   ],
   "source": [
    "# Create Decoder instance\n",
    "rnn_decoder_lm = RNN_Decoder_LM(hidden_size, vocab_size)\n",
    "rnn_decoder_lm"
   ]
  },
  {
   "cell_type": "code",
   "execution_count": 62,
   "metadata": {},
   "outputs": [
    {
     "data": {
      "text/plain": [
       "torch.Size([37, 64, 16629])"
      ]
     },
     "execution_count": 62,
     "metadata": {},
     "output_type": "execute_result"
    }
   ],
   "source": [
    "# Test decoder\n",
    "rnn_decoder_lm_test = rnn_decoder_lm.cuda()\n",
    "rnn_decoder_lm_test(rnn_encoder_test(X)).shape"
   ]
  },
  {
   "cell_type": "code",
   "execution_count": null,
   "metadata": {},
   "outputs": [],
   "source": []
  }
 ],
 "metadata": {
  "kernelspec": {
   "display_name": "Python 3",
   "language": "python",
   "name": "python3"
  },
  "language_info": {
   "codemirror_mode": {
    "name": "ipython",
    "version": 3
   },
   "file_extension": ".py",
   "mimetype": "text/x-python",
   "name": "python",
   "nbconvert_exporter": "python",
   "pygments_lexer": "ipython3",
   "version": "3.6.4"
  }
 },
 "nbformat": 4,
 "nbformat_minor": 2
}
