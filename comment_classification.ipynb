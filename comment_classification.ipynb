{
 "cells": [
  {
   "cell_type": "code",
   "execution_count": 1,
   "metadata": {},
   "outputs": [],
   "source": [
    "%reload_ext autoreload\n",
    "%autoreload 2\n",
    "%matplotlib inline"
   ]
  },
  {
   "cell_type": "code",
   "execution_count": 2,
   "metadata": {},
   "outputs": [],
   "source": [
    "import pandas as pd\n",
    "import numpy as np\n",
    "import math\n",
    "import re\n",
    "import spacy\n",
    "from spacy.symbols import ORTH\n",
    "import itertools\n",
    "from functools import partial\n",
    "from collections import Iterable\n",
    "from tqdm import tqdm as tqdm_cls, tqdm_notebook, tnrange\n",
    "\n",
    "import torch.nn as nn\n",
    "import torch.nn.functional as F\n",
    "from torch.autograd import Variable\n",
    "from torch import optim, multinomial, save, load\n",
    "\n",
    "import torchtext\n",
    "from torchtext import vocab, data\n",
    "from torchtext.datasets import language_modeling\n",
    "\n",
    "from sklearn.model_selection import train_test_split\n",
    "import dill as pickle\n",
    "import io\n",
    "from matplotlib import pyplot as plt\n",
    "import seaborn as sns"
   ]
  },
  {
   "cell_type": "code",
   "execution_count": 3,
   "metadata": {},
   "outputs": [],
   "source": [
    "SEED = 123456"
   ]
  },
  {
   "cell_type": "code",
   "execution_count": 4,
   "metadata": {},
   "outputs": [
    {
     "name": "stdout",
     "output_type": "stream",
     "text": [
      "sample_submission.csv  train.csv  trn_txt.csv  val_txt.csv\r\n",
      "test.csv\t       trn.csv\t  val.csv\r\n"
     ]
    }
   ],
   "source": [
    "!ls data"
   ]
  },
  {
   "cell_type": "code",
   "execution_count": 5,
   "metadata": {},
   "outputs": [
    {
     "data": {
      "text/plain": [
       "(95851, 8)"
      ]
     },
     "execution_count": 5,
     "metadata": {},
     "output_type": "execute_result"
    }
   ],
   "source": [
    "# Look at training data\n",
    "cmt = pd.read_csv('data/train.csv')\n",
    "cmt.shape"
   ]
  },
  {
   "cell_type": "code",
   "execution_count": 6,
   "metadata": {},
   "outputs": [
    {
     "data": {
      "text/html": [
       "<div>\n",
       "<style scoped>\n",
       "    .dataframe tbody tr th:only-of-type {\n",
       "        vertical-align: middle;\n",
       "    }\n",
       "\n",
       "    .dataframe tbody tr th {\n",
       "        vertical-align: top;\n",
       "    }\n",
       "\n",
       "    .dataframe thead th {\n",
       "        text-align: right;\n",
       "    }\n",
       "</style>\n",
       "<table border=\"1\" class=\"dataframe\">\n",
       "  <thead>\n",
       "    <tr style=\"text-align: right;\">\n",
       "      <th></th>\n",
       "      <th>id</th>\n",
       "      <th>comment_text</th>\n",
       "      <th>toxic</th>\n",
       "      <th>severe_toxic</th>\n",
       "      <th>obscene</th>\n",
       "      <th>threat</th>\n",
       "      <th>insult</th>\n",
       "      <th>identity_hate</th>\n",
       "    </tr>\n",
       "  </thead>\n",
       "  <tbody>\n",
       "    <tr>\n",
       "      <th>0</th>\n",
       "      <td>22256635</td>\n",
       "      <td>Nonsense?  kiss off, geek. what I said is true...</td>\n",
       "      <td>1</td>\n",
       "      <td>0</td>\n",
       "      <td>0</td>\n",
       "      <td>0</td>\n",
       "      <td>0</td>\n",
       "      <td>0</td>\n",
       "    </tr>\n",
       "    <tr>\n",
       "      <th>1</th>\n",
       "      <td>27450690</td>\n",
       "      <td>\"\\n\\n Please do not vandalize pages, as you di...</td>\n",
       "      <td>0</td>\n",
       "      <td>0</td>\n",
       "      <td>0</td>\n",
       "      <td>0</td>\n",
       "      <td>0</td>\n",
       "      <td>0</td>\n",
       "    </tr>\n",
       "    <tr>\n",
       "      <th>2</th>\n",
       "      <td>54037174</td>\n",
       "      <td>\"\\n\\n \"\"Points of interest\"\" \\n\\nI removed the...</td>\n",
       "      <td>0</td>\n",
       "      <td>0</td>\n",
       "      <td>0</td>\n",
       "      <td>0</td>\n",
       "      <td>0</td>\n",
       "      <td>0</td>\n",
       "    </tr>\n",
       "    <tr>\n",
       "      <th>3</th>\n",
       "      <td>77493077</td>\n",
       "      <td>Asking some his nationality is a Racial offenc...</td>\n",
       "      <td>0</td>\n",
       "      <td>0</td>\n",
       "      <td>0</td>\n",
       "      <td>0</td>\n",
       "      <td>0</td>\n",
       "      <td>0</td>\n",
       "    </tr>\n",
       "    <tr>\n",
       "      <th>4</th>\n",
       "      <td>79357270</td>\n",
       "      <td>The reader here is not going by my say so for ...</td>\n",
       "      <td>0</td>\n",
       "      <td>0</td>\n",
       "      <td>0</td>\n",
       "      <td>0</td>\n",
       "      <td>0</td>\n",
       "      <td>0</td>\n",
       "    </tr>\n",
       "  </tbody>\n",
       "</table>\n",
       "</div>"
      ],
      "text/plain": [
       "         id                                       comment_text  toxic  \\\n",
       "0  22256635  Nonsense?  kiss off, geek. what I said is true...      1   \n",
       "1  27450690  \"\\n\\n Please do not vandalize pages, as you di...      0   \n",
       "2  54037174  \"\\n\\n \"\"Points of interest\"\" \\n\\nI removed the...      0   \n",
       "3  77493077  Asking some his nationality is a Racial offenc...      0   \n",
       "4  79357270  The reader here is not going by my say so for ...      0   \n",
       "\n",
       "   severe_toxic  obscene  threat  insult  identity_hate  \n",
       "0             0        0       0       0              0  \n",
       "1             0        0       0       0              0  \n",
       "2             0        0       0       0              0  \n",
       "3             0        0       0       0              0  \n",
       "4             0        0       0       0              0  "
      ]
     },
     "execution_count": 6,
     "metadata": {},
     "output_type": "execute_result"
    }
   ],
   "source": [
    "cmt.head()"
   ]
  },
  {
   "cell_type": "code",
   "execution_count": 7,
   "metadata": {},
   "outputs": [],
   "source": [
    "labels = cmt.columns[2:]"
   ]
  },
  {
   "cell_type": "code",
   "execution_count": 8,
   "metadata": {},
   "outputs": [
    {
     "data": {
      "text/html": [
       "<div>\n",
       "<style scoped>\n",
       "    .dataframe tbody tr th:only-of-type {\n",
       "        vertical-align: middle;\n",
       "    }\n",
       "\n",
       "    .dataframe tbody tr th {\n",
       "        vertical-align: top;\n",
       "    }\n",
       "\n",
       "    .dataframe thead th {\n",
       "        text-align: right;\n",
       "    }\n",
       "</style>\n",
       "<table border=\"1\" class=\"dataframe\">\n",
       "  <thead>\n",
       "    <tr style=\"text-align: right;\">\n",
       "      <th></th>\n",
       "      <th>toxic</th>\n",
       "      <th>severe_toxic</th>\n",
       "      <th>obscene</th>\n",
       "      <th>threat</th>\n",
       "      <th>insult</th>\n",
       "      <th>identity_hate</th>\n",
       "    </tr>\n",
       "  </thead>\n",
       "  <tbody>\n",
       "    <tr>\n",
       "      <th>count</th>\n",
       "      <td>95851.000000</td>\n",
       "      <td>95851.000000</td>\n",
       "      <td>95851.000000</td>\n",
       "      <td>95851.000000</td>\n",
       "      <td>95851.000000</td>\n",
       "      <td>95851.000000</td>\n",
       "    </tr>\n",
       "    <tr>\n",
       "      <th>mean</th>\n",
       "      <td>0.096368</td>\n",
       "      <td>0.010068</td>\n",
       "      <td>0.053301</td>\n",
       "      <td>0.003182</td>\n",
       "      <td>0.049713</td>\n",
       "      <td>0.008492</td>\n",
       "    </tr>\n",
       "    <tr>\n",
       "      <th>std</th>\n",
       "      <td>0.295097</td>\n",
       "      <td>0.099832</td>\n",
       "      <td>0.224635</td>\n",
       "      <td>0.056320</td>\n",
       "      <td>0.217352</td>\n",
       "      <td>0.091762</td>\n",
       "    </tr>\n",
       "    <tr>\n",
       "      <th>min</th>\n",
       "      <td>0.000000</td>\n",
       "      <td>0.000000</td>\n",
       "      <td>0.000000</td>\n",
       "      <td>0.000000</td>\n",
       "      <td>0.000000</td>\n",
       "      <td>0.000000</td>\n",
       "    </tr>\n",
       "    <tr>\n",
       "      <th>25%</th>\n",
       "      <td>0.000000</td>\n",
       "      <td>0.000000</td>\n",
       "      <td>0.000000</td>\n",
       "      <td>0.000000</td>\n",
       "      <td>0.000000</td>\n",
       "      <td>0.000000</td>\n",
       "    </tr>\n",
       "    <tr>\n",
       "      <th>50%</th>\n",
       "      <td>0.000000</td>\n",
       "      <td>0.000000</td>\n",
       "      <td>0.000000</td>\n",
       "      <td>0.000000</td>\n",
       "      <td>0.000000</td>\n",
       "      <td>0.000000</td>\n",
       "    </tr>\n",
       "    <tr>\n",
       "      <th>75%</th>\n",
       "      <td>0.000000</td>\n",
       "      <td>0.000000</td>\n",
       "      <td>0.000000</td>\n",
       "      <td>0.000000</td>\n",
       "      <td>0.000000</td>\n",
       "      <td>0.000000</td>\n",
       "    </tr>\n",
       "    <tr>\n",
       "      <th>max</th>\n",
       "      <td>1.000000</td>\n",
       "      <td>1.000000</td>\n",
       "      <td>1.000000</td>\n",
       "      <td>1.000000</td>\n",
       "      <td>1.000000</td>\n",
       "      <td>1.000000</td>\n",
       "    </tr>\n",
       "  </tbody>\n",
       "</table>\n",
       "</div>"
      ],
      "text/plain": [
       "              toxic  severe_toxic       obscene        threat        insult  \\\n",
       "count  95851.000000  95851.000000  95851.000000  95851.000000  95851.000000   \n",
       "mean       0.096368      0.010068      0.053301      0.003182      0.049713   \n",
       "std        0.295097      0.099832      0.224635      0.056320      0.217352   \n",
       "min        0.000000      0.000000      0.000000      0.000000      0.000000   \n",
       "25%        0.000000      0.000000      0.000000      0.000000      0.000000   \n",
       "50%        0.000000      0.000000      0.000000      0.000000      0.000000   \n",
       "75%        0.000000      0.000000      0.000000      0.000000      0.000000   \n",
       "max        1.000000      1.000000      1.000000      1.000000      1.000000   \n",
       "\n",
       "       identity_hate  \n",
       "count   95851.000000  \n",
       "mean        0.008492  \n",
       "std         0.091762  \n",
       "min         0.000000  \n",
       "25%         0.000000  \n",
       "50%         0.000000  \n",
       "75%         0.000000  \n",
       "max         1.000000  "
      ]
     },
     "execution_count": 8,
     "metadata": {},
     "output_type": "execute_result"
    }
   ],
   "source": [
    "cmt[labels].describe()"
   ]
  },
  {
   "cell_type": "code",
   "execution_count": 9,
   "metadata": {},
   "outputs": [
    {
     "data": {
      "text/plain": [
       "count    95851.000000\n",
       "mean         0.221124\n",
       "std          0.750533\n",
       "min          0.000000\n",
       "25%          0.000000\n",
       "50%          0.000000\n",
       "75%          0.000000\n",
       "max          6.000000\n",
       "Name: num_labels, dtype: float64"
      ]
     },
     "execution_count": 9,
     "metadata": {},
     "output_type": "execute_result"
    }
   ],
   "source": [
    "cmt['num_labels'] = cmt[labels].sum(axis=1)\n",
    "cmt['num_labels'].describe()"
   ]
  },
  {
   "cell_type": "code",
   "execution_count": 10,
   "metadata": {},
   "outputs": [
    {
     "name": "stdout",
     "output_type": "stream",
     "text": [
      "\n",
      "\u001b[93m    Warning: no model found for 'en'\u001b[0m\n",
      "\n",
      "    Only loading the 'en' tokenizer.\n",
      "\n"
     ]
    }
   ],
   "source": [
    "# Define tokenizer\n",
    "# https://github.com/fastai/fastai/blob/dc61200b18f25a42b8e803c5ca7be48509f562ef/fastai/nlp.py#L16-L21\n",
    "re_br = re.compile(r'<\\s*br\\s*/?>', re.IGNORECASE)\n",
    "\n",
    "def sub_br(x):\n",
    "    return re.sub(r'\\n', ' ', re_br.sub(' ', x))\n",
    "\n",
    "def sub_quote(x):\n",
    "    return re.sub(r'\"', ' ', x)\n",
    "\n",
    "my_tok = spacy.load('en')\n",
    "my_tok.tokenizer.add_special_case('<eos>', [{ORTH: '<eos>'}])\n",
    "\n",
    "def spacy_tok(x):\n",
    "    return [tok.text for tok in my_tok.tokenizer(sub_quote(sub_br(x)))]"
   ]
  },
  {
   "cell_type": "code",
   "execution_count": 11,
   "metadata": {},
   "outputs": [
    {
     "data": {
      "text/html": [
       "<div>\n",
       "<style scoped>\n",
       "    .dataframe tbody tr th:only-of-type {\n",
       "        vertical-align: middle;\n",
       "    }\n",
       "\n",
       "    .dataframe tbody tr th {\n",
       "        vertical-align: top;\n",
       "    }\n",
       "\n",
       "    .dataframe thead th {\n",
       "        text-align: right;\n",
       "    }\n",
       "</style>\n",
       "<table border=\"1\" class=\"dataframe\">\n",
       "  <thead>\n",
       "    <tr style=\"text-align: right;\">\n",
       "      <th></th>\n",
       "      <th>comment_text</th>\n",
       "      <th>comment_text_cleaned</th>\n",
       "    </tr>\n",
       "  </thead>\n",
       "  <tbody>\n",
       "    <tr>\n",
       "      <th>0</th>\n",
       "      <td>Nonsense?  kiss off, geek. what I said is true...</td>\n",
       "      <td>Nonsense ?   kiss off , geek . what I said is ...</td>\n",
       "    </tr>\n",
       "    <tr>\n",
       "      <th>1</th>\n",
       "      <td>\"\\n\\n Please do not vandalize pages, as you di...</td>\n",
       "      <td>Please do not vandalize pages , as you did wit...</td>\n",
       "    </tr>\n",
       "    <tr>\n",
       "      <th>2</th>\n",
       "      <td>\"\\n\\n \"\"Points of interest\"\" \\n\\nI removed the...</td>\n",
       "      <td>Points of interest      I removed the    point...</td>\n",
       "    </tr>\n",
       "    <tr>\n",
       "      <th>3</th>\n",
       "      <td>Asking some his nationality is a Racial offenc...</td>\n",
       "      <td>Asking some his nationality is a Racial offenc...</td>\n",
       "    </tr>\n",
       "    <tr>\n",
       "      <th>4</th>\n",
       "      <td>The reader here is not going by my say so for ...</td>\n",
       "      <td>The reader here is not going by my say so for ...</td>\n",
       "    </tr>\n",
       "  </tbody>\n",
       "</table>\n",
       "</div>"
      ],
      "text/plain": [
       "                                        comment_text  \\\n",
       "0  Nonsense?  kiss off, geek. what I said is true...   \n",
       "1  \"\\n\\n Please do not vandalize pages, as you di...   \n",
       "2  \"\\n\\n \"\"Points of interest\"\" \\n\\nI removed the...   \n",
       "3  Asking some his nationality is a Racial offenc...   \n",
       "4  The reader here is not going by my say so for ...   \n",
       "\n",
       "                                comment_text_cleaned  \n",
       "0  Nonsense ?   kiss off , geek . what I said is ...  \n",
       "1  Please do not vandalize pages , as you did wit...  \n",
       "2  Points of interest      I removed the    point...  \n",
       "3  Asking some his nationality is a Racial offenc...  \n",
       "4  The reader here is not going by my say so for ...  "
      ]
     },
     "execution_count": 11,
     "metadata": {},
     "output_type": "execute_result"
    }
   ],
   "source": [
    "# Clean text\n",
    "cmt['comment_text_cleaned'] = [' '.join(spacy_tok(txt)).strip() for txt in cmt['comment_text']]\n",
    "cmt[['comment_text', 'comment_text_cleaned']].head()"
   ]
  },
  {
   "cell_type": "code",
   "execution_count": 12,
   "metadata": {},
   "outputs": [
    {
     "data": {
      "text/plain": [
       "((71888, 2), (23963, 2), (71888, 6), (23963, 6))"
      ]
     },
     "execution_count": 12,
     "metadata": {},
     "output_type": "execute_result"
    }
   ],
   "source": [
    "# Split into training and validation set\n",
    "cmt_trn, cmt_val, cmt_trn_y, cmt_val_y = train_test_split(cmt[['id', 'comment_text_cleaned']], cmt[labels], random_state=SEED)\n",
    "cmt_trn.shape, cmt_val.shape, cmt_trn_y.shape, cmt_val_y.shape"
   ]
  },
  {
   "cell_type": "code",
   "execution_count": 13,
   "metadata": {},
   "outputs": [],
   "source": [
    "cmt_trn = cmt_trn.join(cmt_trn_y)\n",
    "cmt_val = cmt_val.join(cmt_val_y)"
   ]
  },
  {
   "cell_type": "code",
   "execution_count": 15,
   "metadata": {},
   "outputs": [],
   "source": [
    "# Save only the text content\n",
    "cmt_trn['comment_text_cleaned'].to_csv('data/trn_txt.csv', index=False, header=False)\n",
    "cmt_val['comment_text_cleaned'].to_csv('data/val_txt.csv', index=False, header=False)"
   ]
  },
  {
   "cell_type": "code",
   "execution_count": 126,
   "metadata": {},
   "outputs": [],
   "source": [
    "# Save a small subset of data for testing code only\n",
    "cmt_trn['comment_text_cleaned'][:1000].to_csv('data/trn_txt_small.csv', index=False, header=False)\n",
    "cmt_val['comment_text_cleaned'][:1000].to_csv('data/val_txt_small.csv', index=False, header=False)"
   ]
  },
  {
   "cell_type": "markdown",
   "metadata": {},
   "source": [
    "## Create language model"
   ]
  },
  {
   "cell_type": "markdown",
   "metadata": {},
   "source": [
    "### Create text field and splits"
   ]
  },
  {
   "cell_type": "code",
   "execution_count": 4,
   "metadata": {},
   "outputs": [],
   "source": [
    "# Create a torchtext field\n",
    "TEXT = data.Field(lower=True, eos_token='<eos>')"
   ]
  },
  {
   "cell_type": "code",
   "execution_count": 5,
   "metadata": {},
   "outputs": [],
   "source": [
    "# Create splits\n",
    "trn, val = data.TabularDataset.splits(\n",
    "    path='data',\n",
    "    train='trn_txt.csv',\n",
    "    validation='val_txt.csv',\n",
    "#     train='trn_txt_small.csv',\n",
    "#     validation='val_txt_small.csv',\n",
    "    format='csv',\n",
    "    fields=[('text', TEXT)])"
   ]
  },
  {
   "cell_type": "code",
   "execution_count": 6,
   "metadata": {},
   "outputs": [
    {
     "data": {
      "text/plain": [
       "(71888, 23963)"
      ]
     },
     "execution_count": 6,
     "metadata": {},
     "output_type": "execute_result"
    }
   ],
   "source": [
    "len(trn), len(val)"
   ]
  },
  {
   "cell_type": "code",
   "execution_count": 7,
   "metadata": {},
   "outputs": [],
   "source": [
    "# Build vocabulary\n",
    "TEXT.build_vocab(trn, min_freq=10)"
   ]
  },
  {
   "cell_type": "code",
   "execution_count": 8,
   "metadata": {},
   "outputs": [
    {
     "data": {
      "text/plain": [
       "16629"
      ]
     },
     "execution_count": 8,
     "metadata": {},
     "output_type": "execute_result"
    }
   ],
   "source": [
    "# Vocabulary size\n",
    "vocab_size = len(TEXT.vocab)\n",
    "vocab_size"
   ]
  },
  {
   "cell_type": "code",
   "execution_count": 9,
   "metadata": {},
   "outputs": [
    {
     "data": {
      "text/plain": [
       "['<unk>', '<pad>', '<eos>', '.', 'the', ',', 'to', 'i', 'of', 'and']"
      ]
     },
     "execution_count": 9,
     "metadata": {},
     "output_type": "execute_result"
    }
   ],
   "source": [
    "# Vocabulary dict\n",
    "# Most frequent words\n",
    "TEXT.vocab.itos[:10]"
   ]
  },
  {
   "cell_type": "code",
   "execution_count": 10,
   "metadata": {},
   "outputs": [
    {
     "data": {
      "text/plain": [
       "['zurich', 'zzuuzz', '|b', '~*~', '\\x93', '—aco', '•talk•', '☠', '✄', '😉']"
      ]
     },
     "execution_count": 10,
     "metadata": {},
     "output_type": "execute_result"
    }
   ],
   "source": [
    "# Least frequent words\n",
    "TEXT.vocab.itos[-10:]"
   ]
  },
  {
   "cell_type": "code",
   "execution_count": 11,
   "metadata": {},
   "outputs": [
    {
     "data": {
      "text/plain": [
       "['tag',\n",
       " 'brewcrewer',\n",
       " ',',\n",
       " 'if',\n",
       " 'you',\n",
       " 'do',\n",
       " 'nt',\n",
       " 'want',\n",
       " 'to',\n",
       " 'edit',\n",
       " 'war',\n",
       " 'over',\n",
       " 'something',\n",
       " 'like',\n",
       " 'this',\n",
       " 'why',\n",
       " 'are',\n",
       " 'you',\n",
       " 'reverting',\n",
       " '?']"
      ]
     },
     "execution_count": 11,
     "metadata": {},
     "output_type": "execute_result"
    }
   ],
   "source": [
    "# Check out the first sentence in the training set\n",
    "trn.examples[0].text[:20]"
   ]
  },
  {
   "cell_type": "code",
   "execution_count": 12,
   "metadata": {},
   "outputs": [
    {
     "data": {
      "text/plain": [
       "count    71888.000000\n",
       "mean        78.877003\n",
       "std        119.938922\n",
       "min          1.000000\n",
       "25%         20.000000\n",
       "50%         42.000000\n",
       "75%         87.000000\n",
       "max       4948.000000\n",
       "dtype: float64"
      ]
     },
     "execution_count": 12,
     "metadata": {},
     "output_type": "execute_result"
    }
   ],
   "source": [
    "# Check out comment lengths\n",
    "pd.Series([len(txt.text) for txt in trn.examples]).describe()"
   ]
  },
  {
   "cell_type": "code",
   "execution_count": 55,
   "metadata": {},
   "outputs": [],
   "source": [
    "pickle.dump(TEXT, open('data/TEXT.pkl','wb'))"
   ]
  },
  {
   "cell_type": "markdown",
   "metadata": {},
   "source": [
    "### Create iterators"
   ]
  },
  {
   "cell_type": "code",
   "execution_count": 13,
   "metadata": {},
   "outputs": [],
   "source": [
    "# https://github.com/fastai/fastai/blob/master/fastai/nlp.py#L117\n",
    "class LanguageModelIterator():\n",
    "    def __init__(self, ds, bs, bptt):\n",
    "        self.bs = bs\n",
    "        self.bptt = bptt\n",
    "\n",
    "        # Combine all tokens\n",
    "        toks = [tok.text for tok in ds]\n",
    "        toks = list(itertools.chain(*toks))\n",
    "\n",
    "        # Convert tokens to index\n",
    "        fld = ds.fields['text']\n",
    "        idx = fld.numericalize([toks])\n",
    "\n",
    "        # Split into batches\n",
    "        self.data = self.batchify(idx)\n",
    "        self.n_toks_per_batch = len(self.data)\n",
    "\n",
    "        # To point to the index of the next token\n",
    "        self.i = 0\n",
    "\n",
    "        # To track iterations\n",
    "        self.iter = 0\n",
    "\n",
    "    def __iter__(self):\n",
    "        self.i = 0\n",
    "        self.iter = 0\n",
    "        return self\n",
    "\n",
    "    def __len__(self):\n",
    "        # Number of iterations to go over an epoch\n",
    "        return self.n_toks_per_batch // self.bptt - 1\n",
    "\n",
    "    def __next__(self):\n",
    "        if self.i >= self.n_toks_per_batch - 1 or self.iter >= len(self):\n",
    "            raise StopIteration\n",
    "\n",
    "        # Halve `bptt` 5% of the time\n",
    "        bptt = self.bptt if np.random.random() < 0.95 else self.bptt / 2.\n",
    "\n",
    "        # Add variability to sequence length\n",
    "        seq_len = max(5, int(np.random.normal(bptt, 5)))\n",
    "\n",
    "        res = self.get_batch(self.i, seq_len)\n",
    "        \n",
    "        # Update pointers\n",
    "        self.i += seq_len\n",
    "        self.iter += 1\n",
    "        return res\n",
    "\n",
    "    # Split data into batches\n",
    "    def batchify(self, toks):\n",
    "        n_toks_per_batch = len(toks) // self.bs\n",
    "\n",
    "        # Discard the trailing tokens\n",
    "        toks = toks[:n_toks_per_batch * bs]\n",
    "\n",
    "        # Reshape to (n_toks_per_batch, bs)\n",
    "        toks_reshaped = toks.view(bs, -1).t().contiguous()\n",
    "        return toks_reshaped.cuda()\n",
    "    \n",
    "    # Get the next batch\n",
    "    def get_batch(self, i, seq_len):\n",
    "        data = self.data\n",
    "        seq_len = min(seq_len, self.n_toks_per_batch - i - 1)\n",
    "        \n",
    "        # Offset output by 1 token\n",
    "        return data[i:i + seq_len], data[i + 1:i + 1 + seq_len].view(-1)"
   ]
  },
  {
   "cell_type": "code",
   "execution_count": 14,
   "metadata": {},
   "outputs": [],
   "source": [
    "bs = 64\n",
    "bptt = 30"
   ]
  },
  {
   "cell_type": "code",
   "execution_count": 15,
   "metadata": {},
   "outputs": [],
   "source": [
    "# Create data loaders\n",
    "trn_dl, val_dl = [LanguageModelIterator(ds, bs, bptt) for ds in (trn, val)]"
   ]
  },
  {
   "cell_type": "code",
   "execution_count": 16,
   "metadata": {},
   "outputs": [
    {
     "data": {
      "text/plain": [
       "(2952, 977)"
      ]
     },
     "execution_count": 16,
     "metadata": {},
     "output_type": "execute_result"
    }
   ],
   "source": [
    "# Number of iterations\n",
    "len(trn_dl), len(val_dl)"
   ]
  },
  {
   "cell_type": "code",
   "execution_count": 17,
   "metadata": {},
   "outputs": [
    {
     "data": {
      "text/plain": [
       "(torch.Size([19, 64]), torch.Size([19, 64]))"
      ]
     },
     "execution_count": 17,
     "metadata": {},
     "output_type": "execute_result"
    }
   ],
   "source": [
    "# Check out a batch\n",
    "X, y = next(iter(trn_dl))\n",
    "X.shape, y.view(-1, bs).shape"
   ]
  },
  {
   "cell_type": "markdown",
   "metadata": {},
   "source": [
    "### Encoder"
   ]
  },
  {
   "cell_type": "code",
   "execution_count": 18,
   "metadata": {},
   "outputs": [],
   "source": [
    "# https://github.com/fastai/fastai/blob/5c9ea4c3533a132b45c1ec577c2cbb72ab24d4c0/fastai/lm_rnn.py#L18\n",
    "def repackage_var(h):\n",
    "    # Wraps h in new Variables, to detach them from their history.\n",
    "    if type(h) == Variable:\n",
    "        return Variable(h.data)\n",
    "    else:\n",
    "        return tuple(repackage_var(v) for v in h)"
   ]
  },
  {
   "cell_type": "code",
   "execution_count": 19,
   "metadata": {},
   "outputs": [],
   "source": [
    "# Loosely based on https://github.com/fastai/fastai/blob/master/fastai/lm_rnn.py#L23\n",
    "class RNN_Encoder(nn.Module):\n",
    "    def __init__(self, bs, vocab_size, embedding_size, hidden_size, n_layers, padding_idx,\n",
    "                 dropout_embedding, dropout_lstm):\n",
    "        super().__init__()\n",
    "        \n",
    "        # Embedding layer\n",
    "        self.embedding = nn.Embedding(vocab_size, embedding_size, padding_idx=padding_idx)\n",
    "        \n",
    "        # Embedding dropout\n",
    "        self.embedding_dropout = nn.Dropout(p=dropout_embedding)\n",
    "        \n",
    "        # LSTM layer\n",
    "        self.lstm = nn.LSTM(embedding_size, hidden_size, n_layers, dropout = dropout_lstm)\n",
    "        \n",
    "        self.bs, self.hidden_size, self.n_layers = bs, hidden_size, n_layers\n",
    "    \n",
    "    def forward(self, input):\n",
    "        input_embedded = self.embedding_dropout(self.embedding(input))  # (seq_len, bs, embedding_size)\n",
    "        output, hidden = self.lstm(input_embedded, self.hidden)  # (seq_len, bs, hidden_size)\n",
    "        self.hidden = repackage_var(hidden)\n",
    "        return output\n",
    "    \n",
    "    def reset_hidden(self):\n",
    "        weight = next(self.parameters()).data\n",
    "        self.hidden = (Variable(weight.new(self.n_layers, self.bs, self.hidden_size).zero_()),\n",
    "                       Variable(weight.new(self.n_layers, self.bs, self.hidden_size).zero_()))"
   ]
  },
  {
   "cell_type": "code",
   "execution_count": 20,
   "metadata": {},
   "outputs": [],
   "source": [
    "embedding_size = 200\n",
    "padding_idx = TEXT.vocab.stoi[TEXT.pad_token]\n",
    "dropout_embedding = 0.02\n",
    "dropout_lstm = 0.05\n",
    "hidden_size = 500\n",
    "n_layers = 3"
   ]
  },
  {
   "cell_type": "code",
   "execution_count": 21,
   "metadata": {
    "scrolled": true
   },
   "outputs": [
    {
     "data": {
      "text/plain": [
       "RNN_Encoder(\n",
       "  (embedding): Embedding(16629, 200, padding_idx=1)\n",
       "  (embedding_dropout): Dropout(p=0.02)\n",
       "  (lstm): LSTM(200, 500, num_layers=3, dropout=0.05)\n",
       ")"
      ]
     },
     "execution_count": 21,
     "metadata": {},
     "output_type": "execute_result"
    }
   ],
   "source": [
    "# Create encoder instance\n",
    "rnn_encoder = RNN_Encoder(bs, vocab_size, embedding_size, hidden_size, n_layers, padding_idx, dropout_embedding, dropout_lstm)\n",
    "rnn_encoder"
   ]
  },
  {
   "cell_type": "code",
   "execution_count": 22,
   "metadata": {},
   "outputs": [
    {
     "data": {
      "text/plain": [
       "torch.Size([19, 64, 500])"
      ]
     },
     "execution_count": 22,
     "metadata": {},
     "output_type": "execute_result"
    }
   ],
   "source": [
    "# Test encoder\n",
    "rnn_encoder_test = rnn_encoder.cuda()\n",
    "rnn_encoder_test.reset_hidden()\n",
    "rnn_encoder_test(X).shape"
   ]
  },
  {
   "cell_type": "markdown",
   "metadata": {},
   "source": [
    "### Decoder"
   ]
  },
  {
   "cell_type": "code",
   "execution_count": 23,
   "metadata": {},
   "outputs": [],
   "source": [
    "# https://github.com/fastai/fastai/blob/master/fastai/lm_rnn.py#L134\n",
    "class RNN_Decoder_LM(nn.Module):\n",
    "    def __init__(self, hidden_size, vocab_size):\n",
    "        super().__init__()\n",
    "        \n",
    "        # Linear layer\n",
    "        self.decoder = nn.Linear(hidden_size, vocab_size)\n",
    "    \n",
    "    def forward(self, input):\n",
    "        return self.decoder(input).view(-1, vocab_size)"
   ]
  },
  {
   "cell_type": "code",
   "execution_count": 24,
   "metadata": {},
   "outputs": [
    {
     "data": {
      "text/plain": [
       "RNN_Decoder_LM(\n",
       "  (decoder): Linear(in_features=500, out_features=16629)\n",
       ")"
      ]
     },
     "execution_count": 24,
     "metadata": {},
     "output_type": "execute_result"
    }
   ],
   "source": [
    "# Create Decoder instance\n",
    "rnn_decoder_lm = RNN_Decoder_LM(hidden_size, vocab_size)\n",
    "rnn_decoder_lm"
   ]
  },
  {
   "cell_type": "code",
   "execution_count": 25,
   "metadata": {},
   "outputs": [
    {
     "data": {
      "text/plain": [
       "torch.Size([1216, 16629])"
      ]
     },
     "execution_count": 25,
     "metadata": {},
     "output_type": "execute_result"
    }
   ],
   "source": [
    "# Test decoder\n",
    "rnn_decoder_lm_test = rnn_decoder_lm.cuda()\n",
    "rnn_decoder_lm_test(rnn_encoder_test(X)).shape"
   ]
  },
  {
   "cell_type": "markdown",
   "metadata": {},
   "source": [
    "### Combine"
   ]
  },
  {
   "cell_type": "code",
   "execution_count": 26,
   "metadata": {},
   "outputs": [],
   "source": [
    "# https://github.com/fastai/fastai/blob/master/fastai/lm_rnn.py#L197\n",
    "class SequentialRNN(nn.Sequential):\n",
    "    # Add function to reset hidden state\n",
    "    # (Similar to eval(), to be used in evaluation)\n",
    "    def reset_hidden(self):\n",
    "        for c in self.children():\n",
    "            if hasattr(c, 'reset_hidden'): c.reset_hidden()"
   ]
  },
  {
   "cell_type": "code",
   "execution_count": 27,
   "metadata": {},
   "outputs": [],
   "source": [
    "rnn_lm = SequentialRNN(rnn_encoder, rnn_decoder_lm)"
   ]
  },
  {
   "cell_type": "code",
   "execution_count": 28,
   "metadata": {},
   "outputs": [
    {
     "data": {
      "text/plain": [
       "SequentialRNN(\n",
       "  (0): RNN_Encoder(\n",
       "    (embedding): Embedding(16629, 200, padding_idx=1)\n",
       "    (embedding_dropout): Dropout(p=0.02)\n",
       "    (lstm): LSTM(200, 500, num_layers=3, dropout=0.05)\n",
       "  )\n",
       "  (1): RNN_Decoder_LM(\n",
       "    (decoder): Linear(in_features=500, out_features=16629)\n",
       "  )\n",
       ")"
      ]
     },
     "execution_count": 28,
     "metadata": {},
     "output_type": "execute_result"
    }
   ],
   "source": [
    "rnn_lm = rnn_lm.cuda()\n",
    "rnn_lm"
   ]
  },
  {
   "cell_type": "markdown",
   "metadata": {},
   "source": [
    "## Create learner object"
   ]
  },
  {
   "cell_type": "code",
   "execution_count": 29,
   "metadata": {},
   "outputs": [],
   "source": [
    "# Clear progress bar (for display purpose)\n",
    "# https://github.com/fastai/fastai/blob/49ff2c3cc66d5ce90e1dbe697f09d690d43b81fc/fastai/imports.py#L29\n",
    "def clear_tqdm():\n",
    "    inst = getattr(tqdm_cls, '_instances', None)\n",
    "    if not inst: return\n",
    "    for i in range(len(inst)): inst.pop().close()"
   ]
  },
  {
   "cell_type": "code",
   "execution_count": 30,
   "metadata": {},
   "outputs": [],
   "source": [
    "def accuracy(preds, targs):\n",
    "    preds = np.argmax(preds, axis=1)\n",
    "    return (preds==targs).mean()"
   ]
  },
  {
   "cell_type": "markdown",
   "metadata": {},
   "source": [
    "### Layer optimizer"
   ]
  },
  {
   "cell_type": "code",
   "execution_count": 31,
   "metadata": {},
   "outputs": [],
   "source": [
    "wds = None\n",
    "opt_fn = partial(optim.Adam, betas=(0.7, 0.99))\n",
    "# opt = optim.Adam(model.parameters(), betas=(0.7, 0.99), lr = lrs, weight_decay=0)"
   ]
  },
  {
   "cell_type": "code",
   "execution_count": 32,
   "metadata": {},
   "outputs": [],
   "source": [
    "# https://github.com/fastai/fastai/blob/master/fastai/layer_optimizer.py#L8\n",
    "class LayerOptimizer():\n",
    "    def __init__(self, layer_groups, opt_fn, lrs, wds=None):\n",
    "        # Initialize inputs\n",
    "        if not isinstance(layer_groups, Iterable):\n",
    "            layer_groups = [layer_groups]\n",
    "        if not isinstance(lrs, Iterable):\n",
    "            lrs = [lrs]\n",
    "        if wds is None:\n",
    "            wds = 0\n",
    "        if not isinstance(wds, Iterable):\n",
    "            wds = [wds]\n",
    "\n",
    "        # If only one lrs is given, repeat it to every layer\n",
    "        if len(lrs) == 1:\n",
    "            lrs = lrs * len(layer_groups)\n",
    "\n",
    "        # If only one wds is given, repeat it to every layer\n",
    "        if len(wds) == 1:\n",
    "            wds = wds * len(layer_groups)\n",
    "\n",
    "        # Extract trainable parameters from each layer group\n",
    "        layer_params = [[p for p in m.parameters() if p.requires_grad]\n",
    "                        for m in layer_groups]\n",
    "\n",
    "        # Put all optimizer parameters together, one per layer\n",
    "        opt_params = [{\n",
    "            'params': layer_param,\n",
    "            'lr': lr,\n",
    "            'weight_decay': wd\n",
    "        } for layer_param, lr, wd in zip(layer_params, lrs, wds)]\n",
    "\n",
    "        # Send the parameters to the optimizer function to create the optimizer\n",
    "        self.opt = opt_fn(opt_params)\n",
    "        self.lrs = lrs\n",
    "        self.last_lr = lrs[-1]\n",
    "    \n",
    "    # Update learning rate\n",
    "    def set_lrs(self, lrs):\n",
    "        if not isinstance(lrs, Iterable):\n",
    "            lrs = [lrs]\n",
    "        if len(lrs) == 1:\n",
    "            lrs = lrs * len(self.opt.param_groups)\n",
    "        \n",
    "        for param_group, lr in zip(self.opt.param_groups, lrs):\n",
    "            param_group['lr'] = lr\n",
    "        \n",
    "        self.lrs = lrs\n",
    "        self.last_lr = lrs[-1]"
   ]
  },
  {
   "cell_type": "markdown",
   "metadata": {},
   "source": [
    "### Model fitting"
   ]
  },
  {
   "cell_type": "code",
   "execution_count": 33,
   "metadata": {},
   "outputs": [],
   "source": [
    "crit = F.cross_entropy\n",
    "metrics = accuracy"
   ]
  },
  {
   "cell_type": "code",
   "execution_count": 34,
   "metadata": {},
   "outputs": [],
   "source": [
    "# https://github.com/fastai/fastai/blob/master/fastai/model.py#L64\n",
    "def fit(model, trn_dl, val_dl, layer_opt, crit, metrics, epochs, callback):\n",
    "    # Initialize parameters\n",
    "    batch_num = 0\n",
    "    avg_loss_trn = 0\n",
    "    avg_mom = 0.98  # Rolling weight used in computing rolling average loss\n",
    "    opt = layer_opt.opt\n",
    "    callback.on_train_begin()\n",
    "    \n",
    "    # Clear progress bar\n",
    "    clear_tqdm()\n",
    "\n",
    "    for epoch in tnrange(epochs, desc='Epoch'):\n",
    "        # Set model to training mode\n",
    "        model.train()\n",
    "\n",
    "        # Reset hidden states for RNN\n",
    "        model.reset_hidden()\n",
    "\n",
    "        # Create iterables and set progress bar\n",
    "        t = tqdm_cls(iter(trn_dl), leave=False, total=len(trn_dl))\n",
    "\n",
    "        for (x, y) in t:\n",
    "            batch_num += 1\n",
    "\n",
    "            # Reset gradients\n",
    "            opt.zero_grad()\n",
    "\n",
    "            # Generate predictions for training data\n",
    "            y_pred = model(x)\n",
    "\n",
    "            # Compute loss\n",
    "            loss_trn = crit(y_pred, y)\n",
    "            \n",
    "            # Compute gradients\n",
    "            loss_trn.backward()\n",
    "\n",
    "            # Update parameters\n",
    "            opt.step()\n",
    "            \n",
    "            # Compute average loss\n",
    "            avg_loss_trn = avg_loss_trn * avg_mom + loss_trn.data[0] * (1 - avg_mom)\n",
    "            debias_loss_trn = avg_loss_trn / (1 - avg_mom**batch_num)\n",
    "            t.set_postfix(loss=debias_loss_trn)\n",
    "            \n",
    "            # Record loss, update learning rate (if needed)\n",
    "            callback.on_batch_end(debias_loss_trn, layer_opt.last_lr)\n",
    "            \n",
    "        # Validation\n",
    "        model.eval()\n",
    "        model.reset_hidden()\n",
    "        \n",
    "        losses_val = []\n",
    "        metrics_val = []\n",
    "        \n",
    "        for (x, y) in iter(val_dl):\n",
    "            # Generate predictions for validation data\n",
    "            y_pred = model(x)\n",
    "\n",
    "            # Compute loss\n",
    "            loss_val = crit(y_pred, y)\n",
    "            losses_val.append(loss_val.data.cpu().numpy())\n",
    "            \n",
    "            # Compute metrics\n",
    "            metric_val = metrics(y_pred.data.cpu().numpy(), y.data.cpu().numpy())\n",
    "            metrics_val.append(metric_val)\n",
    "        \n",
    "        # Compute average validation loss and metrics\n",
    "        avg_loss_val = np.mean(losses_val)\n",
    "        avg_metrics_val = np.mean(metrics_val)\n",
    "        \n",
    "        # Print training loss, validation loss, and validation accuracy\n",
    "        print(np.round([epoch, debias_loss_trn, avg_loss_val, avg_metrics_val], 4))"
   ]
  },
  {
   "cell_type": "markdown",
   "metadata": {},
   "source": [
    "### Callbacks"
   ]
  },
  {
   "cell_type": "code",
   "execution_count": 35,
   "metadata": {},
   "outputs": [],
   "source": [
    "# https://github.com/fastai/fastai/blob/master/fastai/sgdr.py\n",
    "class LossRecorder:\n",
    "    def __init__(self, layer_opt):\n",
    "        self.layer_opt = layer_opt\n",
    "        self.init_lrs = layer_opt.lrs\n",
    "    \n",
    "    def on_train_begin(self):\n",
    "        self.iteration = 0\n",
    "        self.iterations = []\n",
    "        self.losses = []\n",
    "        self.lrs = []\n",
    "    \n",
    "    def on_batch_end(self, loss, last_lr):\n",
    "        self.iteration += 1\n",
    "        self.iterations.append(self.iteration)\n",
    "        self.losses.append(loss)\n",
    "        self.lrs.append(last_lr)\n",
    "    \n",
    "    def plot_lr(self):\n",
    "        plt.plot(self.iterations, self.lrs)\n",
    "        plt.xlabel('Iteration')\n",
    "        plt.ylabel('Learning rate')\n",
    "    \n",
    "    def plot_loss(self):\n",
    "        plt.plot(self.iterations, self.losses)\n",
    "        plt.xlabel('Iteration')\n",
    "        plt.ylabel('Loss')\n",
    "    \n",
    "    def plot_loss_vs_lr(self):\n",
    "        plt.plot(self.lrs, self.losses)\n",
    "        plt.xlabel('Learning rate (log)')\n",
    "        plt.ylabel('Loss')\n",
    "        plt.xscale('log')"
   ]
  },
  {
   "cell_type": "markdown",
   "metadata": {},
   "source": [
    "### Learning rate finder"
   ]
  },
  {
   "cell_type": "code",
   "execution_count": 36,
   "metadata": {},
   "outputs": [],
   "source": [
    "class LearningRateFinder(LossRecorder):\n",
    "    def __init__(self, layer_opt, num_iters, start_lr=1e-5, end_lr=1):\n",
    "        super().__init__(layer_opt)\n",
    "        \n",
    "        # Computes the learing rate multiplier upon the completion of each iterations\n",
    "        self.lr_mult = (end_lr / start_lr)**(1 / num_iters)\n",
    "    \n",
    "    def update_lr(self):\n",
    "        return np.array(self.init_lrs) * self.lr_mult**self.iteration\n",
    "    \n",
    "    def on_batch_end(self, loss, last_lr):\n",
    "        super().on_batch_end(loss, last_lr)\n",
    "        self.layer_opt.set_lrs(self.update_lr())"
   ]
  },
  {
   "cell_type": "code",
   "execution_count": 37,
   "metadata": {},
   "outputs": [],
   "source": [
    "# Save the original model to come back to\n",
    "save(rnn_lm.state_dict(), 'data/tmp')"
   ]
  },
  {
   "cell_type": "code",
   "execution_count": 40,
   "metadata": {},
   "outputs": [],
   "source": [
    "start_lr = 1e-5\n",
    "layer_opt = LayerOptimizer([rnn_lm], opt_fn, start_lr)\n",
    "learning_rate_finder = LearningRateFinder(layer_opt, len(trn_dl), start_lr)"
   ]
  },
  {
   "cell_type": "code",
   "execution_count": 41,
   "metadata": {
    "scrolled": false
   },
   "outputs": [
    {
     "data": {
      "application/vnd.jupyter.widget-view+json": {
       "model_id": "0df87b5231bc4a2aad599b5e99086185",
       "version_major": 2,
       "version_minor": 0
      },
      "text/html": [
       "<p>Failed to display Jupyter Widget of type <code>HBox</code>.</p>\n",
       "<p>\n",
       "  If you're reading this message in the Jupyter Notebook or JupyterLab Notebook, it may mean\n",
       "  that the widgets JavaScript is still loading. If this message persists, it\n",
       "  likely means that the widgets JavaScript library is either not installed or\n",
       "  not enabled. See the <a href=\"https://ipywidgets.readthedocs.io/en/stable/user_install.html\">Jupyter\n",
       "  Widgets Documentation</a> for setup instructions.\n",
       "</p>\n",
       "<p>\n",
       "  If you're reading this message in another frontend (for example, a static\n",
       "  rendering on GitHub or <a href=\"https://nbviewer.jupyter.org/\">NBViewer</a>),\n",
       "  it may mean that your frontend doesn't currently support widgets.\n",
       "</p>\n"
      ],
      "text/plain": [
       "HBox(children=(IntProgress(value=0, description='Epoch', max=1), HTML(value='')))"
      ]
     },
     "metadata": {},
     "output_type": "display_data"
    },
    {
     "name": "stderr",
     "output_type": "stream",
     "text": [
      "                                                              \r"
     ]
    },
    {
     "name": "stdout",
     "output_type": "stream",
     "text": [
      "[  0.       8.5781  12.7077   0.    ]\n",
      "\n"
     ]
    }
   ],
   "source": [
    "fit(rnn_lm, trn_dl, val_dl, layer_opt, crit, metrics, 1, learning_rate_finder)"
   ]
  },
  {
   "cell_type": "code",
   "execution_count": 42,
   "metadata": {},
   "outputs": [
    {
     "data": {
      "image/png": "[encoded data removed]",
      "text/plain": [
       "<matplotlib.figure.Figure at 0x7f6e6898ff60>"
      ]
     },
     "metadata": {},
     "output_type": "display_data"
    }
   ],
   "source": [
    "# Plot iterations vs. LR\n",
    "learning_rate_finder.plot_lr()"
   ]
  },
  {
   "cell_type": "code",
   "execution_count": 43,
   "metadata": {},
   "outputs": [
    {
     "data": {
      "image/png": "[encoded data removed]",
      "text/plain": [
       "<matplotlib.figure.Figure at 0x7f6e694250f0>"
      ]
     },
     "metadata": {},
     "output_type": "display_data"
    }
   ],
   "source": [
    "learning_rate_finder.plot_loss()"
   ]
  },
  {
   "cell_type": "code",
   "execution_count": 44,
   "metadata": {},
   "outputs": [
    {
     "data": {
      "image/png": "[encoded data removed]",
      "text/plain": [
       "<matplotlib.figure.Figure at 0x7f6e696b1080>"
      ]
     },
     "metadata": {},
     "output_type": "display_data"
    }
   ],
   "source": [
    "# Plot learning rate vs. losses\n",
    "learning_rate_finder.plot_loss_vs_lr()"
   ]
  },
  {
   "cell_type": "code",
   "execution_count": 45,
   "metadata": {},
   "outputs": [],
   "source": [
    "lrs = 1e-3"
   ]
  },
  {
   "cell_type": "code",
   "execution_count": 46,
   "metadata": {},
   "outputs": [],
   "source": [
    "# Load the original, untrained model\n",
    "rnn_lm.load_state_dict(load('data/tmp', map_location=lambda storage, loc: storage))"
   ]
  },
  {
   "cell_type": "markdown",
   "metadata": {},
   "source": [
    "### Cosine annealing"
   ]
  },
  {
   "cell_type": "code",
   "execution_count": 47,
   "metadata": {},
   "outputs": [],
   "source": [
    "class CosAnneal(LossRecorder):\n",
    "    def __init__(self, layer_opt, num_iters, cycle_mult=1):\n",
    "        super().__init__(layer_opt)\n",
    "        \n",
    "        self.num_iters = num_iters\n",
    "        self.cycle_iter = 0\n",
    "        self.cycle_mult = cycle_mult\n",
    "    \n",
    "    def update_lr(self):\n",
    "        if self.cycle_iter == self.num_iters:\n",
    "            self.cycle_iter = 0\n",
    "            self.num_iters *= self.cycle_mult\n",
    "        \n",
    "        cos = np.cos(np.pi * self.cycle_iter / self.num_iters) + 1\n",
    "        self.cycle_iter += 1\n",
    "        \n",
    "        return np.array(self.init_lrs) * cos / 2\n",
    "    \n",
    "    def on_batch_end(self, loss, last_lr):\n",
    "        super().on_batch_end(loss, last_lr)\n",
    "        self.layer_opt.set_lrs(self.update_lr())"
   ]
  },
  {
   "cell_type": "code",
   "execution_count": 48,
   "metadata": {},
   "outputs": [],
   "source": [
    "cycle_mult = 2\n",
    "n_cycle = 2\n",
    "\n",
    "layer_opt = LayerOptimizer([rnn_lm], opt_fn, lrs)\n",
    "cos_anneal = CosAnneal(layer_opt, len(trn_dl), cycle_mult)\n",
    "epochs = n_cycle if cycle_mult == 1 else math.ceil((1 - cycle_mult**n_cycle) / (1 - cycle_mult))"
   ]
  },
  {
   "cell_type": "code",
   "execution_count": 49,
   "metadata": {},
   "outputs": [
    {
     "data": {
      "application/vnd.jupyter.widget-view+json": {
       "model_id": "d33930f607fa4731935fc07cbf61da92",
       "version_major": 2,
       "version_minor": 0
      },
      "text/html": [
       "<p>Failed to display Jupyter Widget of type <code>HBox</code>.</p>\n",
       "<p>\n",
       "  If you're reading this message in the Jupyter Notebook or JupyterLab Notebook, it may mean\n",
       "  that the widgets JavaScript is still loading. If this message persists, it\n",
       "  likely means that the widgets JavaScript library is either not installed or\n",
       "  not enabled. See the <a href=\"https://ipywidgets.readthedocs.io/en/stable/user_install.html\">Jupyter\n",
       "  Widgets Documentation</a> for setup instructions.\n",
       "</p>\n",
       "<p>\n",
       "  If you're reading this message in another frontend (for example, a static\n",
       "  rendering on GitHub or <a href=\"https://nbviewer.jupyter.org/\">NBViewer</a>),\n",
       "  it may mean that your frontend doesn't currently support widgets.\n",
       "</p>\n"
      ],
      "text/plain": [
       "HBox(children=(IntProgress(value=0, description='Epoch', max=3), HTML(value='')))"
      ]
     },
     "metadata": {},
     "output_type": "display_data"
    },
    {
     "name": "stderr",
     "output_type": "stream",
     "text": [
      "  0%|          | 1/2952 [00:00<08:05,  6.08it/s, loss=5.08]   "
     ]
    },
    {
     "name": "stdout",
     "output_type": "stream",
     "text": [
      "[ 0.      5.0777  4.9408  0.2073]\n"
     ]
    },
    {
     "name": "stderr",
     "output_type": "stream",
     "text": [
      "  0%|          | 1/2952 [00:00<06:42,  7.33it/s, loss=4.6]    "
     ]
    },
    {
     "name": "stdout",
     "output_type": "stream",
     "text": [
      "[ 1.      4.5925  4.6348  0.2439]\n"
     ]
    },
    {
     "name": "stderr",
     "output_type": "stream",
     "text": [
      "                                                              \r"
     ]
    },
    {
     "name": "stdout",
     "output_type": "stream",
     "text": [
      "[ 2.      4.4885  4.5485  0.2538]\n",
      "\n"
     ]
    }
   ],
   "source": [
    "fit(rnn_lm, trn_dl, val_dl, layer_opt, crit, metrics, epochs, cos_anneal)"
   ]
  },
  {
   "cell_type": "code",
   "execution_count": 50,
   "metadata": {},
   "outputs": [
    {
     "data": {
      "image/png": "[encoded data removed]",
      "text/plain": [
       "<matplotlib.figure.Figure at 0x7f6e637df940>"
      ]
     },
     "metadata": {},
     "output_type": "display_data"
    }
   ],
   "source": [
    "cos_anneal.plot_lr()"
   ]
  },
  {
   "cell_type": "code",
   "execution_count": 51,
   "metadata": {},
   "outputs": [
    {
     "data": {
      "image/png": "[encoded data removed]",
      "text/plain": [
       "<matplotlib.figure.Figure at 0x7f6e637dc9e8>"
      ]
     },
     "metadata": {},
     "output_type": "display_data"
    }
   ],
   "source": [
    "cos_anneal.plot_loss()"
   ]
  },
  {
   "cell_type": "code",
   "execution_count": 53,
   "metadata": {},
   "outputs": [],
   "source": [
    "# Save model\n",
    "save(rnn_lm.state_dict(), 'data/rnn_lm')\n",
    "\n",
    "# Save encoder specifically\n",
    "save(rnn_lm[0].state_dict(), 'data/rnn_lm_encoder')"
   ]
  },
  {
   "cell_type": "markdown",
   "metadata": {},
   "source": [
    "### Text generation"
   ]
  },
  {
   "cell_type": "code",
   "execution_count": 61,
   "metadata": {},
   "outputs": [],
   "source": [
    "def sample_model(fld, model, seed_str, output_len=100):\n",
    "    # Process the seed string\n",
    "    seed_str_toks = fld.preprocess(fld.tokenize(seed_str))\n",
    "    seed_str_toks_num = fld.numericalize([seed_str_toks])\n",
    "\n",
    "    # Set batch size to 1\n",
    "    model[0].bs = 1\n",
    "\n",
    "    # Turn off dropoff (eval mode)\n",
    "    model.eval()\n",
    "\n",
    "    # Reset hidden states\n",
    "    model.reset_hidden()\n",
    "\n",
    "    # Generate initial predictions\n",
    "    pred = model(seed_str_toks_num)\n",
    "    print('...', end='')\n",
    "\n",
    "    for i in range(output_len):\n",
    "        # Get the last predictions\n",
    "        pred_last = pred[-1]\n",
    "        \n",
    "        # Compute probabilities using softmax\n",
    "        pred_last_prob = pred[-1].exp() / pred[-1].exp().sum()\n",
    "        \n",
    "        # Randomly sample one word per the distribution\n",
    "        pred_last_choice = multinomial(pred_last_prob, 1)\n",
    "        \n",
    "        # Convert it to word\n",
    "        word = fld.vocab.itos[pred_last_choice.data[0]]\n",
    "        print(word, end=' ')\n",
    "\n",
    "        if word == '<eos>':\n",
    "            break\n",
    "\n",
    "        # Generate the next predictions\n",
    "        pred = model(pred_last_choice.unsqueeze(0))\n",
    "    \n",
    "    # Restore encoder batch size\n",
    "    model[0].bs = bs"
   ]
  },
  {
   "cell_type": "code",
   "execution_count": 62,
   "metadata": {},
   "outputs": [
    {
     "name": "stdout",
     "output_type": "stream",
     "text": [
      "plagiarized from other sources .\n",
      "...as far as i did after you , as i know i have come . i 've never read anything , do justice no such time ban <unk> on wp pages and requests from to read the fact that the tm can be verified for philosophical parts issues . — preceding unsigned comment added by <unk> 's sentence do you have anything in the 2011 server or game ? now i created the standard killing theories ( e.g. secondary source on brief times , types i wish to quote it as how to read the format close in mind ) "
     ]
    }
   ],
   "source": [
    "seed_str = ' '.join(val.examples[0].text)\n",
    "print(seed_str)\n",
    "sample_model(TEXT, rnn_lm, seed_str)"
   ]
  },
  {
   "cell_type": "code",
   "execution_count": null,
   "metadata": {},
   "outputs": [],
   "source": []
  }
 ],
 "metadata": {
  "kernelspec": {
   "display_name": "Python 3",
   "language": "python",
   "name": "python3"
  },
  "language_info": {
   "codemirror_mode": {
    "name": "ipython",
    "version": 3
   },
   "file_extension": ".py",
   "mimetype": "text/x-python",
   "name": "python",
   "nbconvert_exporter": "python",
   "pygments_lexer": "ipython3",
   "version": "3.6.4"
  }
 },
 "nbformat": 4,
 "nbformat_minor": 2
}
